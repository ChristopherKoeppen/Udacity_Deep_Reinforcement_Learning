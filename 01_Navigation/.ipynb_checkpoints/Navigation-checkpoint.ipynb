{
 "cells": [
  {
   "cell_type": "markdown",
   "metadata": {},
   "source": [
    "# Navigation\n",
    "\n",
    "---\n",
    "\n",
    "You are welcome to use this coding environment to train your agent for the project.  Follow the instructions below to get started!\n",
    "\n",
    "### 1. Start the Environment\n",
    "\n",
    "Run the next code cell to install a few packages.  This line will take a few minutes to run!"
   ]
  },
  {
   "cell_type": "code",
   "execution_count": 1,
   "metadata": {},
   "outputs": [
    {
     "name": "stdout",
     "output_type": "stream",
     "text": [
      "\u001b[31mtensorflow 1.7.1 has requirement numpy>=1.13.3, but you'll have numpy 1.12.1 which is incompatible.\u001b[0m\r\n",
      "\u001b[31mipython 6.5.0 has requirement prompt-toolkit<2.0.0,>=1.0.15, but you'll have prompt-toolkit 3.0.36 which is incompatible.\u001b[0m\r\n",
      "\u001b[31mjupyter-console 6.4.3 has requirement jupyter-client>=7.0.0, but you'll have jupyter-client 5.2.4 which is incompatible.\u001b[0m\r\n"
     ]
    }
   ],
   "source": [
    "!pip -q install ./python"
   ]
  },
  {
   "cell_type": "markdown",
   "metadata": {},
   "source": [
    "The environment is already saved in the Workspace and can be accessed at the file path provided below.  Please run the next code cell without making any changes."
   ]
  },
  {
   "cell_type": "code",
   "execution_count": 2,
   "metadata": {
    "scrolled": true
   },
   "outputs": [
    {
     "name": "stderr",
     "output_type": "stream",
     "text": [
      "INFO:unityagents:\n",
      "'Academy' started successfully!\n",
      "Unity Academy name: Academy\n",
      "        Number of Brains: 1\n",
      "        Number of External Brains : 1\n",
      "        Lesson number : 0\n",
      "        Reset Parameters :\n",
      "\t\t\n",
      "Unity brain name: BananaBrain\n",
      "        Number of Visual Observations (per agent): 0\n",
      "        Vector Observation space type: continuous\n",
      "        Vector Observation space size (per agent): 37\n",
      "        Number of stacked Vector Observation: 1\n",
      "        Vector Action space type: discrete\n",
      "        Vector Action space size (per agent): 4\n",
      "        Vector Action descriptions: , , , \n"
     ]
    }
   ],
   "source": [
    "from unityagents import UnityEnvironment\n",
    "import numpy as np\n",
    "\n",
    "# please do not modify the line below\n",
    "env = UnityEnvironment(file_name=\"/data/Banana_Linux_NoVis/Banana.x86_64\")"
   ]
  },
  {
   "cell_type": "markdown",
   "metadata": {},
   "source": [
    "Environments contain **_brains_** which are responsible for deciding the actions of their associated agents. Here we check for the first brain available, and set it as the default brain we will be controlling from Python."
   ]
  },
  {
   "cell_type": "code",
   "execution_count": 3,
   "metadata": {},
   "outputs": [],
   "source": [
    "# get the default brain\n",
    "brain_name = env.brain_names[0]\n",
    "brain = env.brains[brain_name]"
   ]
  },
  {
   "cell_type": "markdown",
   "metadata": {},
   "source": [
    "### 2. Examine the State and Action Spaces\n",
    "\n",
    "Run the code cell below to print some information about the environment."
   ]
  },
  {
   "cell_type": "code",
   "execution_count": 4,
   "metadata": {},
   "outputs": [
    {
     "name": "stdout",
     "output_type": "stream",
     "text": [
      "Number of agents: 1\n",
      "Number of actions: 4\n",
      "States look like: [ 1.          0.          0.          0.          0.84408134  0.          0.\n",
      "  1.          0.          0.0748472   0.          1.          0.          0.\n",
      "  0.25755     1.          0.          0.          0.          0.74177343\n",
      "  0.          1.          0.          0.          0.25854847  0.          0.\n",
      "  1.          0.          0.09355672  0.          1.          0.          0.\n",
      "  0.31969345  0.          0.        ]\n",
      "States have length: 37\n"
     ]
    }
   ],
   "source": [
    "# reset the environment\n",
    "env_info = env.reset(train_mode=True)[brain_name]\n",
    "\n",
    "# number of agents in the environment\n",
    "print('Number of agents:', len(env_info.agents))\n",
    "\n",
    "# number of actions\n",
    "action_size = brain.vector_action_space_size\n",
    "print('Number of actions:', action_size)\n",
    "\n",
    "# examine the state space \n",
    "state = env_info.vector_observations[0]\n",
    "print('States look like:', state)\n",
    "state_size = len(state)\n",
    "print('States have length:', state_size)\n",
    "\n",
    "\n"
   ]
  },
  {
   "cell_type": "markdown",
   "metadata": {},
   "source": [
    "### 3. Take Random Actions in the Environment\n",
    "\n",
    "In the next code cell, you will learn how to use the Python API to control the agent and receive feedback from the environment.\n",
    "\n",
    "Note that **in this coding environment, you will not be able to watch the agent while it is training**, and you should set `train_mode=True` to restart the environment."
   ]
  },
  {
   "cell_type": "markdown",
   "metadata": {},
   "source": [
    "When finished, you can close the environment."
   ]
  },
  {
   "cell_type": "markdown",
   "metadata": {},
   "source": [
    "### 4. It's Your Turn!\n",
    "\n",
    "Now it's your turn to train your own agent to solve the environment!  A few **important notes**:\n",
    "- When training the environment, set `train_mode=True`, so that the line for resetting the environment looks like the following:\n",
    "```python\n",
    "env_info = env.reset(train_mode=True)[brain_name]\n",
    "```\n",
    "- To structure your work, you're welcome to work directly in this Jupyter notebook, or you might like to start over with a new file!  You can see the list of files in the workspace by clicking on **_Jupyter_** in the top left corner of the notebook.\n",
    "- In this coding environment, you will not be able to watch the agent while it is training.  However, **_after training the agent_**, you can download the saved model weights to watch the agent on your own machine! "
   ]
  },
  {
   "cell_type": "code",
   "execution_count": 5,
   "metadata": {},
   "outputs": [
    {
     "name": "stdout",
     "output_type": "stream",
     "text": [
      "Start\n",
      "Episode 50, Average Score: -0.06\n",
      "Episode 100, Average Score: 0.69\n",
      "Episode 150, Average Score: 2.54\n",
      "Episode 200, Average Score: 4.25\n",
      "Episode 250, Average Score: 5.67\n",
      "Episode 300, Average Score: 6.8\n",
      "Episode 350, Average Score: 7.84\n",
      "Episode 400, Average Score: 9.57\n",
      "Episode 450, Average Score: 11.0\n",
      "Episode 500, Average Score: 11.86\n",
      "Episode 550, Average Score: 12.5\n",
      "Episode 600, Average Score: 12.76\n",
      "Episode 650, Average Score: 13.11\n",
      "Episode 700, Average Score: 13.85\n",
      "Episode 750, Average Score: 13.97\n",
      "Episode 800, Average Score: 13.57\n",
      "Episode 850, Average Score: 13.68\n",
      "Episode 900, Average Score: 13.27\n",
      "Episode 950, Average Score: 13.53\n",
      "Episode 1000, Average Score: 14.0\n",
      "Episode 1050, Average Score: 13.8\n",
      "Episode 1100, Average Score: 14.32\n",
      "Episode 1150, Average Score: 14.41\n",
      "Episode 1200, Average Score: 14.13\n",
      "Episode 1250, Average Score: 14.1\n",
      "Episode 1300, Average Score: 14.95\n",
      "Episode 1350, Average Score: 15.51\n",
      "Episode 1400, Average Score: 15.09\n",
      "Episode 1450, Average Score: 14.78\n",
      "Episode 1500, Average Score: 15.08\n",
      "Episode 1550, Average Score: 14.72\n",
      "Episode 1600, Average Score: 14.75\n",
      "Episode 1650, Average Score: 14.7\n",
      "Episode 1700, Average Score: 13.9\n",
      "Episode 1750, Average Score: 14.16\n",
      "Episode 1800, Average Score: 14.07\n",
      "Episode 1850, Average Score: 14.53\n",
      "Episode 1900, Average Score: 14.6\n",
      "Episode 1950, Average Score: 14.54\n",
      "Episode 2000, Average Score: 14.93\n",
      "Episode 2050, Average Score: 14.71\n",
      "Episode 2100, Average Score: 14.77\n",
      "Episode 2150, Average Score: 14.45\n",
      "Episode 2200, Average Score: 14.28\n",
      "Episode 2250, Average Score: 14.64\n",
      "Episode 2300, Average Score: 14.89\n",
      "Episode 2350, Average Score: 14.92\n",
      "Episode 2400, Average Score: 14.42\n",
      "Episode 2450, Average Score: 14.04\n",
      "Episode 2500, Average Score: 14.27\n",
      "End. Best average score: 15.75\n"
     ]
    }
   ],
   "source": [
    "from dqn_agent_final import Agent\n",
    "from collections import namedtuple, deque\n",
    "import torch\n",
    "\n",
    "print(\"Start\")\n",
    "agent = Agent(state_size=37, action_size=4, seed=0, fc1_units=256, fc2_units=256)\n",
    "env_info = env.reset(train_mode=True)[brain_name] # reset the environment\n",
    "state = env_info.vector_observations[0]            # get the current state\n",
    "\n",
    "n_episodes = 2500\n",
    "eps_start = 1.0\n",
    "eps_decay=0.995\n",
    "eps = eps_start                    # initialize epsilon\n",
    "eps_end = 0.01\n",
    "# score = 0                                          # initialize the score\n",
    "step = 0\n",
    "scores = []                        # list containing scores from each episode\n",
    "scores_window = deque(maxlen=100)  # last 100 scores\n",
    "average_scores = []\n",
    "max_score = 0.0\n",
    "scores_all = []\n",
    "\n",
    "for i_episode in range(1, n_episodes+1):\n",
    "    env.reset()\n",
    "    score = 0\n",
    "    step_counter = 0\n",
    "    while True: #step_counter < 800:\n",
    "        action = agent.act(state, eps)\n",
    "        env_info = env.step(action)[brain_name]        # send the action to the environment\n",
    "        next_state = env_info.vector_observations[0]   # get the next state\n",
    "        reward = env_info.rewards[0]                   # get the reward\n",
    "        done = env_info.local_done[0]                  # see if episode has finished\n",
    "        agent.step(state, action, reward, next_state, done)\n",
    "        score += reward                                # update the score\n",
    "        state = next_state                             # roll over the state to next time step\n",
    "        step +=1\n",
    "        step_counter+=1\n",
    "        if done:                                       # exit loop if episode finished\n",
    "            break\n",
    "    scores_all.append(score)\n",
    "    scores_window.append(score)\n",
    "    eps = max(eps_end, eps_decay*eps) # decrease epsilon\n",
    "    average_scores.append(np.mean(scores_window))\n",
    "    if i_episode % 50 == 0:\n",
    "#         print('\\rEpisode {}\\tAverage Score: {:.2f}'.format(i_episode, np.mean(scores_window)))\n",
    "        print(f\"Episode {i_episode}, Average Score: {np.mean(scores_window)}\")\n",
    "    if max(average_scores)>=13.0 and max_score < max(average_scores):\n",
    "        max_score = max(average_scores)\n",
    "#         print('\\nEnvironment solved in {:d} episodes!\\tAverage Score: {:.2f}'.format(i_episode, np.mean(scores_window)))\n",
    "        torch.save(agent.qnetwork_local.state_dict(), 'checkpoint.pth')\n",
    "#         break\n",
    "\n",
    "print(f\"End. Best average score: {max(average_scores)}\")"
   ]
  },
  {
   "cell_type": "code",
   "execution_count": 6,
   "metadata": {},
   "outputs": [],
   "source": [
    "# average_scores_1 = average_scores.copy()"
   ]
  },
  {
   "cell_type": "code",
   "execution_count": 10,
   "metadata": {},
   "outputs": [
    {
     "data": {
      "image/png": "[encoded data removed]",
      "text/plain": [
       "<matplotlib.figure.Figure at 0x7fc7817d3668>"
      ]
     },
     "metadata": {
      "needs_background": "light"
     },
     "output_type": "display_data"
    }
   ],
   "source": [
    "import matplotlib.pyplot as plt\n",
    "plt.ion()\n",
    "plt.plot(scores_all, c='r')\n",
    "plt.plot(average_scores, c='b')\n",
    "plt.ylabel(\"Score\")\n",
    "plt.xlabel(\"Episodes\")\n",
    "plt.show()"
   ]
  },
  {
   "cell_type": "code",
   "execution_count": 11,
   "metadata": {},
   "outputs": [],
   "source": [
    "env.close()"
   ]
  },
  {
   "cell_type": "code",
   "execution_count": null,
   "metadata": {},
   "outputs": [],
   "source": []
  }
 ],
 "metadata": {
  "kernelspec": {
   "display_name": "Python 3 (ipykernel)",
   "language": "python",
   "name": "python3"
  },
  "language_info": {
   "codemirror_mode": {
    "name": "ipython",
    "version": 3
   },
   "file_extension": ".py",
   "mimetype": "text/x-python",
   "name": "python",
   "nbconvert_exporter": "python",
   "pygments_lexer": "ipython3",
   "version": "3.9.13"
  }
 },
 "nbformat": 4,
 "nbformat_minor": 2
}
